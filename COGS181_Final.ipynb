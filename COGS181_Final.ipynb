{
 "cells": [
  {
   "cell_type": "markdown",
   "id": "5c395152",
   "metadata": {},
   "source": [
    "## COGS 181 Final Project - Few Shot Learning with CIFAR-10 Data"
   ]
  },
  {
   "cell_type": "markdown",
   "id": "61709e5c",
   "metadata": {},
   "source": [
    "### Overview of Experiment:\n",
    "- Running Few-Shot Learning on CIFAR-10 Dataset \n",
    "- Using two models: AlexNet and ResNet\n",
    "- Few-Shot Learning Steps:\n",
    "  1. Subset data into few-shot data sets into k classes with n samples, for each k sample has query set\n",
    "  2. run model on the subset of the data, record train error and validation error \n",
    "  3. after training is done, we run the model on the test set and record test error\n",
    "  4. repeat for all subsets to get an avg score for train, validatio, test error"
   ]
  },
  {
   "cell_type": "markdown",
   "id": "ce6fe72b",
   "metadata": {},
   "source": [
    "#### Imports"
   ]
  },
  {
   "cell_type": "code",
   "execution_count": 2,
   "id": "84dc2d4a",
   "metadata": {},
   "outputs": [],
   "source": [
    "%matplotlib inline\n",
    "import matplotlib.pyplot as plt\n",
    "import numpy as np\n",
    "import torch\n",
    "import torchvision\n",
    "import torchvision.transforms as transforms\n",
    "import torch.nn as nn\n",
    "import torch.nn.functional as F\n",
    "import torch.optim as optim\n",
    "from torch.utils.data import Dataset"
   ]
  },
  {
   "cell_type": "markdown",
   "id": "3955fd87",
   "metadata": {},
   "source": [
    "#### Import Data - CIFAR-10"
   ]
  },
  {
   "cell_type": "code",
   "execution_count": 3,
   "id": "acde4922",
   "metadata": {},
   "outputs": [
    {
     "name": "stdout",
     "output_type": "stream",
     "text": [
      "Files already downloaded and verified\n",
      "Files already downloaded and verified\n"
     ]
    }
   ],
   "source": [
    "transform = transforms.Compose(\n",
    "    [transforms.ToTensor(),\n",
    "     transforms.Normalize((0.5, 0.5, 0.5), (0.5, 0.5, 0.5))])\n",
    "\n",
    "trainset = torchvision.datasets.CIFAR10(root='./data', train=True,\n",
    "                                        download=True, transform=transform)\n",
    "trainloader = torch.utils.data.DataLoader(trainset, batch_size=4,\n",
    "                                          shuffle=True, num_workers=2)\n",
    "\n",
    "testset = torchvision.datasets.CIFAR10(root='./data', train=False,\n",
    "                                       download=True, transform=transform)\n",
    "testloader = torch.utils.data.DataLoader(testset, batch_size=4,\n",
    "                                         shuffle=False, num_workers=2)\n",
    "\n",
    "classes = ('plane', 'car', 'bird', 'cat',\n",
    "           'deer', 'dog', 'frog', 'horse', 'ship', 'truck')"
   ]
  },
  {
   "cell_type": "code",
   "execution_count": 4,
   "id": "f1bf40db",
   "metadata": {},
   "outputs": [
    {
     "name": "stdout",
     "output_type": "stream",
     "text": [
      "tensor([4, 5, 7, 2])\n"
     ]
    },
    {
     "data": {
      "image/png": "[encoded data removed]",
      "text/plain": [
       "<Figure size 640x480 with 1 Axes>"
      ]
     },
     "metadata": {},
     "output_type": "display_data"
    },
    {
     "name": "stdout",
     "output_type": "stream",
     "text": [
      "('plane', 'car', 'bird', 'cat', 'deer', 'dog', 'frog', 'horse', 'ship', 'truck')\n",
      " deer   dog horse  bird\n"
     ]
    }
   ],
   "source": [
    "# The function to show an image.\n",
    "def imshow(img):\n",
    "    img = img / 2 + 0.5     # Unnormalize.\n",
    "    npimg = img.numpy()\n",
    "    plt.imshow(np.transpose(npimg, (1, 2, 0)))\n",
    "    plt.show()\n",
    "\n",
    "# Get some random training images.\n",
    "dataiter = iter(trainloader)\n",
    "images, labels = next(dataiter)\n",
    "print(labels)\n",
    "# Show images.\n",
    "imshow(torchvision.utils.make_grid(images))\n",
    "# Print labels.\n",
    "print(classes)\n",
    "print(' '.join('%5s' % classes[labels[j]] for j in range(4)))"
   ]
  },
  {
   "cell_type": "code",
   "execution_count": 5,
   "id": "4c62502f",
   "metadata": {},
   "outputs": [
    {
     "name": "stdout",
     "output_type": "stream",
     "text": [
      "cpu\n"
     ]
    }
   ],
   "source": [
    "# If there are GPUs, choose the first one for computing. Otherwise use CPU.\n",
    "device = torch.device(\"cuda:0\" if torch.cuda.is_available() else \"cpu\")\n",
    "print(device)  \n",
    "# If 'cuda:0' is printed, it means GPU is available."
   ]
  },
  {
   "cell_type": "code",
   "execution_count": 133,
   "id": "f83ec14d",
   "metadata": {},
   "outputs": [],
   "source": [
    "#Subset Train and Test Data\n",
    "classes_of_interest = ['cat', 'dog', 'bird', 'frog', 'deer', 'horse']\n",
    "labels_of_interest = [3, 5, 2, 6, 4, 7]\n",
    "#label_indices = [trainset.class_to_idx[label] for label in labels_of_interest]\n",
    "train_subset = [img for img in trainset if img[1] in labels_of_interest]\n",
    "test_subset = [img for img in testset if img[1] in labels_of_interest]"
   ]
  },
  {
   "cell_type": "code",
   "execution_count": 134,
   "id": "e7ecdc13",
   "metadata": {},
   "outputs": [],
   "source": [
    "def getFewShotData(dataset, classes, num_support_samples):\n",
    "\n",
    "    support_set = []\n",
    "    query_set = []\n",
    "    for class_name in classes:\n",
    "        class_indices = np.where(np.array(dataset.targets) == dataset.class_to_idx[class_name])[0]\n",
    "        selected_indices = np.random.choice(class_indices, num_support_samples + 1, replace=False)\n",
    "        for idx, sample_idx in enumerate(selected_indices):\n",
    "            data, label = dataset.data[sample_idx], dataset.targets[sample_idx]\n",
    "            if idx < num_support_samples:\n",
    "                support_set.append((data, label))\n",
    "            else:\n",
    "                query_set.append((data, label))\n",
    "    return support_set, query_set"
   ]
  },
  {
   "cell_type": "code",
   "execution_count": 135,
   "id": "51bbcdd2",
   "metadata": {},
   "outputs": [],
   "source": [
    "# Define classes and number of samples for training tasks\n",
    "num_samples = 3\n",
    "train_classes_task1 = ['cat', 'dog']\n",
    "train_classes_task2 = ['horse', 'deer']\n",
    "# Define classes and number of samples for test tasks\n",
    "test_classes = ['frog', 'bird']\n",
    "\n",
    "# Create FewShotDataset instances for training and test tasks\n",
    "train_task1_support, train_task1_query = getFewShotData(trainset, train_classes_task1, num_samples)\n",
    "train_task2_support, train_task2_query = getFewShotData(trainset, train_classes_task2, num_samples)\n",
    "test_support, test_query = getFewShotData(trainset, test_classes, num_samples)\n"
   ]
  },
  {
   "cell_type": "code",
   "execution_count": 137,
   "id": "aa91a937",
   "metadata": {},
   "outputs": [],
   "source": [
    "# Visualize support set for training task 1\n",
    "#print(\"Train Task 1 Support Set:\")\n",
    "#for i, (data, label) in enumerate(train_task1_support):\n",
    "    #plt.imshow(data)\n",
    "    #plt.title(f\"Label: {label}\")\n",
    "    #plt.axis('off')\n",
    "    #plt.show()"
   ]
  },
  {
   "cell_type": "code",
   "execution_count": null,
   "id": "f54f66d8",
   "metadata": {},
   "outputs": [],
   "source": []
  }
 ],
 "metadata": {
  "kernelspec": {
   "display_name": "Python 3 (ipykernel)",
   "language": "python",
   "name": "python3"
  },
  "language_info": {
   "codemirror_mode": {
    "name": "ipython",
    "version": 3
   },
   "file_extension": ".py",
   "mimetype": "text/x-python",
   "name": "python",
   "nbconvert_exporter": "python",
   "pygments_lexer": "ipython3",
   "version": "3.10.9"
  }
 },
 "nbformat": 4,
 "nbformat_minor": 5
}
