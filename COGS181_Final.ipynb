{
 "cells": [
  {
   "cell_type": "markdown",
   "id": "5c395152",
   "metadata": {},
   "source": [
    "## COGS 181 Final Project - Few Shot Learning with CIFAR-10 Data"
   ]
  },
  {
   "cell_type": "markdown",
   "id": "61709e5c",
   "metadata": {},
   "source": [
    "### Overview of Experiment:\n",
    "- Running Few-Shot Learning on CIFAR-10 Dataset \n",
    "- Using two models: AlexNet and ResNet\n",
    "- Few-Shot Learning Steps:\n",
    "  1. Subset data into few-shot data sets into k classes with n samples, for each k sample has query set\n",
    "  2. run model on the subset of the data, record train error and validation error \n",
    "  3. after training is done, we run the model on the test set and record test error\n",
    "  4. repeat for all subsets to get an avg score for train, validatio, test error"
   ]
  },
  {
   "cell_type": "markdown",
   "id": "ce6fe72b",
   "metadata": {},
   "source": [
    "#### Imports"
   ]
  },
  {
   "cell_type": "code",
   "execution_count": 1,
   "id": "84dc2d4a",
   "metadata": {},
   "outputs": [],
   "source": [
    "%matplotlib inline\n",
    "import matplotlib.pyplot as plt\n",
    "import numpy as np\n",
    "import torch\n",
    "import torchvision\n",
    "import torchvision.transforms as transforms\n",
    "import torch.nn as nn\n",
    "import torch.nn.functional as F\n",
    "import torch.optim as optim\n",
    "from torch.utils.data import Dataset"
   ]
  },
  {
   "cell_type": "markdown",
   "id": "3955fd87",
   "metadata": {},
   "source": [
    "#### Import Data - CIFAR-10"
   ]
  },
  {
   "cell_type": "code",
   "execution_count": 6,
   "id": "acde4922",
   "metadata": {},
   "outputs": [
    {
     "name": "stdout",
     "output_type": "stream",
     "text": [
      "Files already downloaded and verified\n",
      "Files already downloaded and verified\n"
     ]
    }
   ],
   "source": [
    "transform = transforms.Compose(\n",
    "    [transforms.ToTensor(),\n",
    "     transforms.Normalize((0.5, 0.5, 0.5), (0.5, 0.5, 0.5))])\n",
    "\n",
    "trainset = torchvision.datasets.CIFAR10(root='./data', train=True,\n",
    "                                        download=True, transform=transform)\n",
    "trainloader = torch.utils.data.DataLoader(trainset, batch_size=4,\n",
    "                                          shuffle=True, num_workers=2)\n",
    "\n",
    "testset = torchvision.datasets.CIFAR10(root='./data', train=False,\n",
    "                                       download=True, transform=transform)\n",
    "testloader = torch.utils.data.DataLoader(testset, batch_size=4,\n",
    "                                         shuffle=False, num_workers=2)\n",
    "\n",
    "classes = ('plane', 'car', 'bird', 'cat',\n",
    "           'deer', 'dog', 'frog', 'horse', 'ship', 'truck')"
   ]
  },
  {
   "cell_type": "code",
   "execution_count": 19,
   "id": "f1bf40db",
   "metadata": {},
   "outputs": [
    {
     "name": "stdout",
     "output_type": "stream",
     "text": [
      "tensor([7, 3, 1, 1])\n"
     ]
    },
    {
     "data": {
      "image/png": "[encoded data removed]",
      "text/plain": [
       "<Figure size 640x480 with 1 Axes>"
      ]
     },
     "metadata": {},
     "output_type": "display_data"
    },
    {
     "name": "stdout",
     "output_type": "stream",
     "text": [
      "('plane', 'car', 'bird', 'cat', 'deer', 'dog', 'frog', 'horse', 'ship', 'truck')\n",
      "horse   cat   car   car\n"
     ]
    }
   ],
   "source": [
    "# The function to show an image.\n",
    "def imshow(img):\n",
    "    img = img / 2 + 0.5     # Unnormalize.\n",
    "    npimg = img.numpy()\n",
    "    plt.imshow(np.transpose(npimg, (1, 2, 0)))\n",
    "    plt.show()\n",
    "\n",
    "# Get some random training images.\n",
    "dataiter = iter(trainloader)\n",
    "images, labels = next(dataiter)\n",
    "print(labels)\n",
    "# Show images.\n",
    "imshow(torchvision.utils.make_grid(images))\n",
    "# Print labels.\n",
    "print(classes)\n",
    "print(' '.join('%5s' % classes[labels[j]] for j in range(4)))"
   ]
  },
  {
   "cell_type": "code",
   "execution_count": 7,
   "id": "4c62502f",
   "metadata": {},
   "outputs": [
    {
     "name": "stdout",
     "output_type": "stream",
     "text": [
      "cpu\n"
     ]
    }
   ],
   "source": [
    "# If there are GPUs, choose the first one for computing. Otherwise use CPU.\n",
    "device = torch.device(\"cuda:0\" if torch.cuda.is_available() else \"cpu\")\n",
    "print(device)  \n",
    "# If 'cuda:0' is printed, it means GPU is available."
   ]
  },
  {
   "cell_type": "code",
   "execution_count": 15,
   "id": "f83ec14d",
   "metadata": {},
   "outputs": [],
   "source": [
    "#Subset Train and Test Data\n",
    "classes_of_interest = ['cat', 'dog', 'bird', 'frog', 'deer', 'horse']\n",
    "labels_of_interest = [3, 5, 2, 6, 4, 7]\n",
    "#label_indices = [trainset.class_to_idx[label] for label in labels_of_interest]\n",
    "train_subset = [img for img in trainset if img[1] in labels_of_interest]\n",
    "test_subset = [img for img in testset if img[1] in labels_of_interest]"
   ]
  },
  {
   "cell_type": "code",
   "execution_count": 16,
   "id": "e7ecdc13",
   "metadata": {},
   "outputs": [],
   "source": [
    "class FewShotDataset(Dataset):\n",
    "    def __init__(self, dataset, classes, num_samples):\n",
    "        self.dataset = dataset\n",
    "        self.classes = classes\n",
    "        self.num_samples = num_samples\n",
    "        self.data = self._create_few_shot_dataset()\n",
    "\n",
    "    def __len__(self):\n",
    "        return len(self.data)\n",
    "\n",
    "    def __getitem__(self, index):\n",
    "        data, label = self.data[index]\n",
    "        return data, label\n",
    "\n",
    "    def _create_few_shot_dataset(self):\n",
    "        few_shot_data = []\n",
    "        for class_name in self.classes:\n",
    "            class_indices = np.where(np.array(self.dataset.targets) == self.dataset.class_to_idx[class_name])[0]\n",
    "            selected_indices = np.random.choice(class_indices, self.num_samples, replace=False)\n",
    "            for idx in selected_indices:\n",
    "                data, label = self.dataset.data[idx], self.dataset.targets[idx]\n",
    "                few_shot_data.append((data, label))\n",
    "        return few_shot_data"
   ]
  },
  {
   "cell_type": "code",
   "execution_count": 17,
   "id": "51bbcdd2",
   "metadata": {},
   "outputs": [],
   "source": [
    "# Define classes and number of samples for training tasks\n",
    "train_classes_task1 = ['cat', 'dog']\n",
    "train_num_samples_task1 = 3\n",
    "train_classes_task2 = ['horse', 'deer']\n",
    "train_num_samples_task2 = 3\n",
    "\n",
    "# Define classes and number of samples for test tasks\n",
    "test_classes_task1 = ['frog', 'bird']\n",
    "test_num_samples_task1 = 3\n",
    "\n",
    "# Create FewShotDataset instances for training and test tasks\n",
    "train_task1_dataset = FewShotDataset(trainset, train_classes_task1, train_num_samples_task1)\n",
    "train_task2_dataset = FewShotDataset(trainset, train_classes_task2, train_num_samples_task2)\n",
    "test_task1_dataset = FewShotDataset(testset, test_classes_task1, test_num_samples_task1)\n",
    "\n",
    "# Create training and test tasks\n",
    "train_tasks = [(train_task1_dataset, train_task1_dataset, None), (train_task2_dataset, train_task2_dataset, None)]\n",
    "test_tasks = [(test_task1_dataset, test_task1_dataset, None)]"
   ]
  },
  {
   "cell_type": "code",
   "execution_count": 21,
   "id": "dd1be2bb",
   "metadata": {},
   "outputs": [
    {
     "name": "stdout",
     "output_type": "stream",
     "text": [
      "Training Task 1:\n",
      "Number of samples: 6\n",
      "Sample 1:\n",
      "Label: 3\n",
      "Sample 2:\n",
      "Label: 3\n",
      "Sample 3:\n",
      "Label: 3\n",
      "Sample 4:\n",
      "Label: 5\n",
      "Sample 5:\n",
      "Label: 5\n",
      "Sample 6:\n",
      "Label: 5\n",
      "Training Task 2:\n",
      "Number of samples: 6\n",
      "Sample 1:\n",
      "Label: 7\n",
      "Sample 2:\n",
      "Label: 7\n",
      "Sample 3:\n",
      "Label: 7\n",
      "Sample 4:\n",
      "Label: 4\n",
      "Sample 5:\n",
      "Label: 4\n",
      "Sample 6:\n",
      "Label: 4\n"
     ]
    }
   ],
   "source": [
    "# Iterate over train tasks\n",
    "for task_idx, task in enumerate(train_tasks):\n",
    "    task_dataset = task[0]  # Extract dataset from the task tuple\n",
    "    print(f\"Training Task {task_idx + 1}:\")\n",
    "    print(\"Number of samples:\", len(task_dataset))\n",
    "    # Iterate over samples in the dataset\n",
    "    for sample_idx, (data, label) in enumerate(task_dataset):\n",
    "        print(f\"Sample {sample_idx + 1}:\")\n",
    "        print(\"Label:\", label)\n",
    "        # You can visualize or process the data here as needed"
   ]
  },
  {
   "cell_type": "code",
   "execution_count": null,
   "id": "1a9f9ed1",
   "metadata": {},
   "outputs": [],
   "source": []
  }
 ],
 "metadata": {
  "kernelspec": {
   "display_name": "Python 3 (ipykernel)",
   "language": "python",
   "name": "python3"
  },
  "language_info": {
   "codemirror_mode": {
    "name": "ipython",
    "version": 3
   },
   "file_extension": ".py",
   "mimetype": "text/x-python",
   "name": "python",
   "nbconvert_exporter": "python",
   "pygments_lexer": "ipython3",
   "version": "3.10.9"
  }
 },
 "nbformat": 4,
 "nbformat_minor": 5
}
